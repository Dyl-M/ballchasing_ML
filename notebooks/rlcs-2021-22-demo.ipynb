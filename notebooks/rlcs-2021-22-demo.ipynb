{
 "cells": [
  {
   "cell_type": "markdown",
   "id": "16c774d9",
   "metadata": {
    "papermill": {
     "duration": 0.034567,
     "end_time": "2022-02-14T20:17:10.137399",
     "exception": false,
     "start_time": "2022-02-14T20:17:10.102832",
     "status": "completed"
    },
    "tags": []
   },
   "source": [
    "# RLCS 2021-22 Dataset Demo: Player profile explain with score.\n",
    "\n",
    "This notebook with outputs is available here: [\"RLCS 2021-22 - Demo\" on Kaggle](https://www.kaggle.com/dylanmonfret/rlcs-2021-22-demo).\n",
    "<br>\n",
    "<hr>\n",
    "\n",
    "Ok, so I do not really know what to put in this notebook to show what is possible with the data available [here](https://www.kaggle.com/dylanmonfret/rlcs-202122), because we could basically do any kind of data analysis or machine learning process compatible with tabular data. For example, we could remake some ballchasing.com data visualization elements, show head-to-head results between teams or players through the whole season, or build predictive models based on what we have in our hands (I am currently working on this).\n",
    "\n",
    "The first two options could be interesting to train our self with data manipulation and the last one might be quite long and need some reflexion to establish the right methodology.\n",
    "\n",
    "So, let's try something easier but still interesting to analyse: \"players type\".\n",
    "\n",
    "We are not going to explain entirely what Rocket League is again, since it was already done [here](https://www.kaggle.com/dylanmonfret/rlcs-202122). But let's just make a quick reminder: two teams of 3 players face each others in a 5 minutes (+ overtime in case of tie after 5 minutes) game and the team who scored the most goals wins the game.\n",
    "\n",
    "This is basically football with car (and not \"soccer\", and EU > NA, always), meaning goals, assists and saves are counted like we use to do with actual football games. In this way, we can define simple types of player by the field their performing the most:\n",
    "\n",
    "* __Scorer / Striker__: a player contributing to the team by scoring.\n",
    "* __Passer / Support__: a player contributing to the team by doing assits.\n",
    "* __Keeper / Defender__: a player contributing to the team by saving goals.\n",
    "\n",
    "Let's now try to illustrate this with `by_players.csv`, `by_teams.csv`, `general.csv` files."
   ]
  },
  {
   "cell_type": "markdown",
   "id": "1b76a777",
   "metadata": {
    "papermill": {
     "duration": 0.033013,
     "end_time": "2022-02-14T20:17:10.204697",
     "exception": false,
     "start_time": "2022-02-14T20:17:10.171684",
     "status": "completed"
    },
    "tags": []
   },
   "source": [
    "## Librairies imports"
   ]
  },
  {
   "cell_type": "code",
   "execution_count": null,
   "id": "da05e4e4",
   "metadata": {
    "_cell_guid": "b1076dfc-b9ad-4769-8c92-a6c4dae69d19",
    "_uuid": "8f2839f25d086af736a60e9eeb907d3b93b6e0e5",
    "execution": {
     "iopub.execute_input": "2022-02-14T20:17:10.281043Z",
     "iopub.status.busy": "2022-02-14T20:17:10.280266Z",
     "iopub.status.idle": "2022-02-14T20:17:11.962655Z",
     "shell.execute_reply": "2022-02-14T20:17:11.961680Z",
     "shell.execute_reply.started": "2022-02-14T20:15:31.232116Z"
    },
    "papermill": {
     "duration": 1.72464,
     "end_time": "2022-02-14T20:17:11.962883",
     "exception": false,
     "start_time": "2022-02-14T20:17:10.238243",
     "status": "completed"
    },
    "tags": []
   },
   "outputs": [],
   "source": [
    "import numpy as np\n",
    "import pandas as pd\n",
    "import plotly.express as px"
   ]
  },
  {
   "cell_type": "markdown",
   "id": "4b3c9441",
   "metadata": {
    "papermill": {
     "duration": 0.033515,
     "end_time": "2022-02-14T20:17:12.032305",
     "exception": false,
     "start_time": "2022-02-14T20:17:11.998790",
     "status": "completed"
    },
    "tags": []
   },
   "source": [
    "## Dataframe imports"
   ]
  },
  {
   "cell_type": "code",
   "execution_count": null,
   "id": "1ea3c71d",
   "metadata": {
    "execution": {
     "iopub.execute_input": "2022-02-14T20:17:12.105126Z",
     "iopub.status.busy": "2022-02-14T20:17:12.104397Z",
     "iopub.status.idle": "2022-02-14T20:17:13.927788Z",
     "shell.execute_reply": "2022-02-14T20:17:13.927052Z",
     "shell.execute_reply.started": "2022-02-14T20:15:33.053143Z"
    },
    "papermill": {
     "duration": 1.862541,
     "end_time": "2022-02-14T20:17:13.927978",
     "exception": false,
     "start_time": "2022-02-14T20:17:12.065437",
     "status": "completed"
    },
    "tags": []
   },
   "outputs": [],
   "source": [
    "players = pd.read_csv('../data/retrieved/by_players.csv', low_memory=False, encoding='utf8')\n",
    "teams = pd.read_csv('../data/retrieved/by_teams.csv', low_memory=False, encoding='utf8')\n",
    "general = pd.read_csv('../data/retrieved/general.csv', low_memory=False, encoding='utf8')"
   ]
  },
  {
   "cell_type": "code",
   "execution_count": null,
   "id": "2a7198ec",
   "metadata": {
    "execution": {
     "iopub.execute_input": "2022-02-14T20:17:14.013521Z",
     "iopub.status.busy": "2022-02-14T20:17:14.005630Z",
     "iopub.status.idle": "2022-02-14T20:17:14.041261Z",
     "shell.execute_reply": "2022-02-14T20:17:14.041850Z",
     "shell.execute_reply.started": "2022-02-14T20:15:35.198692Z"
    },
    "papermill": {
     "duration": 0.078382,
     "end_time": "2022-02-14T20:17:14.042034",
     "exception": false,
     "start_time": "2022-02-14T20:17:13.963652",
     "status": "completed"
    },
    "tags": []
   },
   "outputs": [],
   "source": [
    "players.head()"
   ]
  },
  {
   "cell_type": "code",
   "execution_count": null,
   "id": "780211d6",
   "metadata": {
    "execution": {
     "iopub.execute_input": "2022-02-14T20:17:14.135309Z",
     "iopub.status.busy": "2022-02-14T20:17:14.134173Z",
     "iopub.status.idle": "2022-02-14T20:17:14.139557Z",
     "shell.execute_reply": "2022-02-14T20:17:14.139038Z",
     "shell.execute_reply.started": "2022-02-14T20:15:35.246125Z"
    },
    "papermill": {
     "duration": 0.063009,
     "end_time": "2022-02-14T20:17:14.139759",
     "exception": false,
     "start_time": "2022-02-14T20:17:14.076750",
     "status": "completed"
    },
    "tags": []
   },
   "outputs": [],
   "source": [
    "teams.head()"
   ]
  },
  {
   "cell_type": "code",
   "execution_count": null,
   "id": "505d1e6d",
   "metadata": {
    "execution": {
     "iopub.execute_input": "2022-02-14T20:17:14.240597Z",
     "iopub.status.busy": "2022-02-14T20:17:14.239900Z",
     "iopub.status.idle": "2022-02-14T20:17:14.244753Z",
     "shell.execute_reply": "2022-02-14T20:17:14.243207Z",
     "shell.execute_reply.started": "2022-02-14T20:15:35.278385Z"
    },
    "papermill": {
     "duration": 0.069034,
     "end_time": "2022-02-14T20:17:14.244909",
     "exception": false,
     "start_time": "2022-02-14T20:17:14.175875",
     "status": "completed"
    },
    "tags": []
   },
   "outputs": [],
   "source": [
    "general.head()"
   ]
  },
  {
   "cell_type": "markdown",
   "id": "d3f30410",
   "metadata": {
    "papermill": {
     "duration": 0.034991,
     "end_time": "2022-02-14T20:17:14.315668",
     "exception": false,
     "start_time": "2022-02-14T20:17:14.280677",
     "status": "completed"
    },
    "tags": []
   },
   "source": [
    "## Preparations\n",
    "\n",
    "We actually do not need all the features from each dataframe for what is following, so we will keep what (I believe) is usefull or interesting to have to define players profiles (Stikers, Passers and Goalkeepers)."
   ]
  },
  {
   "cell_type": "code",
   "execution_count": null,
   "id": "1111fed3",
   "metadata": {
    "execution": {
     "iopub.execute_input": "2022-02-14T20:17:14.390155Z",
     "iopub.status.busy": "2022-02-14T20:17:14.389455Z",
     "iopub.status.idle": "2022-02-14T20:17:14.408308Z",
     "shell.execute_reply": "2022-02-14T20:17:14.408950Z",
     "shell.execute_reply.started": "2022-02-14T20:15:35.324821Z"
    },
    "papermill": {
     "duration": 0.058185,
     "end_time": "2022-02-14T20:17:14.409125",
     "exception": false,
     "start_time": "2022-02-14T20:17:14.350940",
     "status": "completed"
    },
    "tags": []
   },
   "outputs": [],
   "source": [
    "# general.columns.tolist()\n",
    "general = general[['ballchasing_id', 'region', 'split', 'event', 'phase', 'stage', 'round', 'created']]\n",
    "general.head()"
   ]
  },
  {
   "cell_type": "code",
   "execution_count": null,
   "id": "89ac4795",
   "metadata": {
    "execution": {
     "iopub.execute_input": "2022-02-14T20:17:14.484913Z",
     "iopub.status.busy": "2022-02-14T20:17:14.484205Z",
     "iopub.status.idle": "2022-02-14T20:17:14.502986Z",
     "shell.execute_reply": "2022-02-14T20:17:14.503776Z",
     "shell.execute_reply.started": "2022-02-14T20:15:35.350818Z"
    },
    "papermill": {
     "duration": 0.058914,
     "end_time": "2022-02-14T20:17:14.503987",
     "exception": false,
     "start_time": "2022-02-14T20:17:14.445073",
     "status": "completed"
    },
    "tags": []
   },
   "outputs": [],
   "source": [
    "# players.columns.tolist()\n",
    "players = players[['ballchasing_id','color', 'name', 'p_name', 'p_platform', 'p_platform_id', 'p_car_name', 'p_core_goals', 'p_core_saves', 'p_core_assists',\n",
    "                   'p_core_score', 'p_core_mvp']]\n",
    "players.head()"
   ]
  },
  {
   "cell_type": "code",
   "execution_count": null,
   "id": "54ba899f",
   "metadata": {
    "execution": {
     "iopub.execute_input": "2022-02-14T20:17:14.582851Z",
     "iopub.status.busy": "2022-02-14T20:17:14.582172Z",
     "iopub.status.idle": "2022-02-14T20:17:14.594187Z",
     "shell.execute_reply": "2022-02-14T20:17:14.594874Z",
     "shell.execute_reply.started": "2022-02-14T20:15:35.378065Z"
    },
    "papermill": {
     "duration": 0.052191,
     "end_time": "2022-02-14T20:17:14.595080",
     "exception": false,
     "start_time": "2022-02-14T20:17:14.542889",
     "status": "completed"
    },
    "tags": []
   },
   "outputs": [],
   "source": [
    "# teams.columns.tolist()\n",
    "teams = teams[['ballchasing_id','color', 'name', 'core_goals']]\n",
    "teams.head()"
   ]
  },
  {
   "cell_type": "markdown",
   "id": "394c551f",
   "metadata": {
    "papermill": {
     "duration": 0.037012,
     "end_time": "2022-02-14T20:17:14.669142",
     "exception": false,
     "start_time": "2022-02-14T20:17:14.632130",
     "status": "completed"
    },
    "tags": []
   },
   "source": [
    "At this point, `teams` dataframe is useless, since where focusing on players, but we can retrieve game results using `ballchasing_id` feature to know how players are performing if they are winning or losing. So first I filter `teams` by color/side (blue or orange)..."
   ]
  },
  {
   "cell_type": "code",
   "execution_count": null,
   "id": "389398bf",
   "metadata": {
    "execution": {
     "iopub.execute_input": "2022-02-14T20:17:14.760542Z",
     "iopub.status.busy": "2022-02-14T20:17:14.753190Z",
     "iopub.status.idle": "2022-02-14T20:17:14.763510Z",
     "shell.execute_reply": "2022-02-14T20:17:14.764099Z",
     "shell.execute_reply.started": "2022-02-14T20:15:35.401305Z"
    },
    "papermill": {
     "duration": 0.057894,
     "end_time": "2022-02-14T20:17:14.764285",
     "exception": false,
     "start_time": "2022-02-14T20:17:14.706391",
     "status": "completed"
    },
    "tags": []
   },
   "outputs": [],
   "source": [
    "blue_side = teams.loc[teams.color=='blue']\n",
    "blue_side.head()"
   ]
  },
  {
   "cell_type": "code",
   "execution_count": null,
   "id": "1bb3df1a",
   "metadata": {
    "execution": {
     "iopub.execute_input": "2022-02-14T20:17:14.847926Z",
     "iopub.status.busy": "2022-02-14T20:17:14.847201Z",
     "iopub.status.idle": "2022-02-14T20:17:14.857307Z",
     "shell.execute_reply": "2022-02-14T20:17:14.857871Z",
     "shell.execute_reply.started": "2022-02-14T20:15:35.434093Z"
    },
    "papermill": {
     "duration": 0.056196,
     "end_time": "2022-02-14T20:17:14.858057",
     "exception": false,
     "start_time": "2022-02-14T20:17:14.801861",
     "status": "completed"
    },
    "tags": []
   },
   "outputs": [],
   "source": [
    "orange_side = teams.loc[teams.color == 'orange']\n",
    "orange_side.head()"
   ]
  },
  {
   "cell_type": "markdown",
   "id": "024e6876",
   "metadata": {
    "papermill": {
     "duration": 0.037269,
     "end_time": "2022-02-14T20:17:14.933404",
     "exception": false,
     "start_time": "2022-02-14T20:17:14.896135",
     "status": "completed"
    },
    "tags": []
   },
   "source": [
    "We have now to delete `color` columns and rename `name` and `core_goals` to merge both dataframe and know which teams won in a single dataframe `match_results`. Then, we will be able to drop useless variables from `match_results` for upcoming join with `players` dataframe, and finally tell for each player if their team win the game or not."
   ]
  },
  {
   "cell_type": "code",
   "execution_count": null,
   "id": "f8fda276",
   "metadata": {
    "execution": {
     "iopub.execute_input": "2022-02-14T20:17:15.015017Z",
     "iopub.status.busy": "2022-02-14T20:17:15.014239Z",
     "iopub.status.idle": "2022-02-14T20:17:15.027422Z",
     "shell.execute_reply": "2022-02-14T20:17:15.026649Z",
     "shell.execute_reply.started": "2022-02-14T20:15:35.452925Z"
    },
    "papermill": {
     "duration": 0.055052,
     "end_time": "2022-02-14T20:17:15.027584",
     "exception": false,
     "start_time": "2022-02-14T20:17:14.972532",
     "status": "completed"
    },
    "tags": []
   },
   "outputs": [],
   "source": [
    "blue_side = blue_side.rename(columns={'name': 'blue_team', 'core_goals': 'blue_goals'}).drop('color', axis=1)\n",
    "orange_side = orange_side.rename(columns={'name': 'orange_team', 'core_goals': 'orange_goals'}).drop('color', axis=1)"
   ]
  },
  {
   "cell_type": "code",
   "execution_count": null,
   "id": "3a85afcf",
   "metadata": {
    "execution": {
     "iopub.execute_input": "2022-02-14T20:17:15.113699Z",
     "iopub.status.busy": "2022-02-14T20:17:15.113031Z",
     "iopub.status.idle": "2022-02-14T20:17:15.115763Z",
     "shell.execute_reply": "2022-02-14T20:17:15.116307Z",
     "shell.execute_reply.started": "2022-02-14T20:15:35.468284Z"
    },
    "papermill": {
     "duration": 0.050665,
     "end_time": "2022-02-14T20:17:15.116479",
     "exception": false,
     "start_time": "2022-02-14T20:17:15.065814",
     "status": "completed"
    },
    "tags": []
   },
   "outputs": [],
   "source": [
    "blue_side.head()"
   ]
  },
  {
   "cell_type": "code",
   "execution_count": null,
   "id": "a3c06640",
   "metadata": {
    "execution": {
     "iopub.execute_input": "2022-02-14T20:17:15.200521Z",
     "iopub.status.busy": "2022-02-14T20:17:15.199796Z",
     "iopub.status.idle": "2022-02-14T20:17:15.210050Z",
     "shell.execute_reply": "2022-02-14T20:17:15.210642Z",
     "shell.execute_reply.started": "2022-02-14T20:15:35.481701Z"
    },
    "papermill": {
     "duration": 0.054555,
     "end_time": "2022-02-14T20:17:15.210850",
     "exception": false,
     "start_time": "2022-02-14T20:17:15.156295",
     "status": "completed"
    },
    "tags": []
   },
   "outputs": [],
   "source": [
    "orange_side.head()"
   ]
  },
  {
   "cell_type": "code",
   "execution_count": null,
   "id": "b357a702",
   "metadata": {
    "_kg_hide-input": true,
    "execution": {
     "iopub.execute_input": "2022-02-14T20:17:15.301242Z",
     "iopub.status.busy": "2022-02-14T20:17:15.290863Z",
     "iopub.status.idle": "2022-02-14T20:17:15.317550Z",
     "shell.execute_reply": "2022-02-14T20:17:15.318158Z",
     "shell.execute_reply.started": "2022-02-14T20:15:35.496349Z"
    },
    "papermill": {
     "duration": 0.068681,
     "end_time": "2022-02-14T20:17:15.318330",
     "exception": false,
     "start_time": "2022-02-14T20:17:15.249649",
     "status": "completed"
    },
    "tags": []
   },
   "outputs": [],
   "source": [
    "match_results = blue_side.merge(orange_side)\n",
    "match_results['winner'] = np.where(match_results.orange_goals > match_results.blue_goals, 'orange', 'blue')\n",
    "match_results.head()"
   ]
  },
  {
   "cell_type": "code",
   "execution_count": null,
   "id": "e47c399e",
   "metadata": {
    "execution": {
     "iopub.execute_input": "2022-02-14T20:17:15.402841Z",
     "iopub.status.busy": "2022-02-14T20:17:15.402152Z",
     "iopub.status.idle": "2022-02-14T20:17:15.413151Z",
     "shell.execute_reply": "2022-02-14T20:17:15.412611Z",
     "shell.execute_reply.started": "2022-02-14T20:15:35.542442Z"
    },
    "papermill": {
     "duration": 0.055669,
     "end_time": "2022-02-14T20:17:15.413295",
     "exception": false,
     "start_time": "2022-02-14T20:17:15.357626",
     "status": "completed"
    },
    "tags": []
   },
   "outputs": [],
   "source": [
    "match_results.drop(['blue_team', 'blue_goals', 'orange_team', 'orange_goals'], axis=1, inplace=True)\n",
    "match_results.head()"
   ]
  },
  {
   "cell_type": "code",
   "execution_count": null,
   "id": "b85179db",
   "metadata": {
    "execution": {
     "iopub.execute_input": "2022-02-14T20:17:15.504016Z",
     "iopub.status.busy": "2022-02-14T20:17:15.503247Z",
     "iopub.status.idle": "2022-02-14T20:17:15.547966Z",
     "shell.execute_reply": "2022-02-14T20:17:15.547350Z",
     "shell.execute_reply.started": "2022-02-14T20:15:35.559607Z"
    },
    "papermill": {
     "duration": 0.095116,
     "end_time": "2022-02-14T20:17:15.548113",
     "exception": false,
     "start_time": "2022-02-14T20:17:15.452997",
     "status": "completed"
    },
    "tags": []
   },
   "outputs": [],
   "source": [
    "players = players.merge(match_results).rename(columns={'winner': 'win'})\n",
    "players.win = np.where(players.color == players.win, True, False)\n",
    "\n",
    "players.head()  # Notice: 'p_core_mvp' could be used to tell which team won, because each game MVP is on winner side."
   ]
  },
  {
   "cell_type": "markdown",
   "id": "99e878ed",
   "metadata": {
    "papermill": {
     "duration": 0.040101,
     "end_time": "2022-02-14T20:17:15.628663",
     "exception": false,
     "start_time": "2022-02-14T20:17:15.588562",
     "status": "completed"
    },
    "tags": []
   },
   "source": [
    "This being done, we can make a last join between `general` and `players` to have information about each game (events, round, region, etc.), and we will actually platform columns to have both platform name and ID in a single column and sort game by date (from older to latest ones) to keep most recent player names."
   ]
  },
  {
   "cell_type": "code",
   "execution_count": null,
   "id": "6a4c6327",
   "metadata": {
    "execution": {
     "iopub.execute_input": "2022-02-14T20:17:15.717439Z",
     "iopub.status.busy": "2022-02-14T20:17:15.716407Z",
     "iopub.status.idle": "2022-02-14T20:17:15.836416Z",
     "shell.execute_reply": "2022-02-14T20:17:15.837019Z",
     "shell.execute_reply.started": "2022-02-14T20:15:35.627831Z"
    },
    "papermill": {
     "duration": 0.163942,
     "end_time": "2022-02-14T20:17:15.837205",
     "exception": false,
     "start_time": "2022-02-14T20:17:15.673263",
     "status": "completed"
    },
    "tags": []
   },
   "outputs": [],
   "source": [
    "data = general.merge(players).rename(columns={'created': 'game_time', 'name': 'team', 'p_name': 'name', 'p_platform': 'platform', 'p_platform_id': 'platform_id',\n",
    "                                              'p_car_name': 'car_name', 'p_core_goals': 'goals', 'p_core_saves': 'saves', 'p_core_assists': 'assists',\n",
    "                                              'p_core_score': 'score', 'p_core_mvp': 'mvp'})\n",
    "\n",
    "data.platform = data['platform'] + '_' + data['platform_id'].astype(str)\n",
    "\n",
    "data = data.rename(columns={'platform': 'player_id'}).drop('platform_id', axis=1).sort_values(['game_time', 'color', 'name'])\n",
    "\n",
    "data.head()"
   ]
  },
  {
   "cell_type": "code",
   "execution_count": null,
   "id": "45feba26",
   "metadata": {
    "execution": {
     "iopub.execute_input": "2022-02-14T20:17:15.924468Z",
     "iopub.status.busy": "2022-02-14T20:17:15.923577Z",
     "iopub.status.idle": "2022-02-14T20:17:15.949091Z",
     "shell.execute_reply": "2022-02-14T20:17:15.949622Z",
     "shell.execute_reply.started": "2022-02-14T20:15:35.771107Z"
    },
    "papermill": {
     "duration": 0.070824,
     "end_time": "2022-02-14T20:17:15.949820",
     "exception": false,
     "start_time": "2022-02-14T20:17:15.878996",
     "status": "completed"
    },
    "tags": []
   },
   "outputs": [],
   "source": [
    "player_name_db = data[['name', 'team', 'player_id']] \\\n",
    "                    .drop_duplicates('player_id', keep='last') \\\n",
    "                    .sort_values('name', key=lambda col: col.str.lower()) \\\n",
    "                    .reset_index(drop=True)\n",
    "player_name_db"
   ]
  },
  {
   "cell_type": "code",
   "execution_count": null,
   "id": "a35e698a",
   "metadata": {
    "execution": {
     "iopub.execute_input": "2022-02-14T20:17:16.040575Z",
     "iopub.status.busy": "2022-02-14T20:17:16.039741Z",
     "iopub.status.idle": "2022-02-14T20:17:16.063104Z",
     "shell.execute_reply": "2022-02-14T20:17:16.063594Z",
     "shell.execute_reply.started": "2022-02-14T20:15:35.802016Z"
    },
    "papermill": {
     "duration": 0.072223,
     "end_time": "2022-02-14T20:17:16.063793",
     "exception": false,
     "start_time": "2022-02-14T20:17:15.991570",
     "status": "completed"
    },
    "tags": []
   },
   "outputs": [],
   "source": [
    "data.drop(['team', 'name', 'game_time', 'color'], axis=1, inplace=True)\n",
    "data"
   ]
  },
  {
   "cell_type": "markdown",
   "id": "75afc00b",
   "metadata": {
    "papermill": {
     "duration": 0.042147,
     "end_time": "2022-02-14T20:17:16.148225",
     "exception": false,
     "start_time": "2022-02-14T20:17:16.106078",
     "status": "completed"
    },
    "tags": []
   },
   "source": [
    "## Filtering & Averaging variables\n",
    "\n",
    "### Filtering outlier\n",
    "\n",
    "Since we are going to average variables over the whole dataset to then plot them, it would be interesting to get rid of the few \"outliers\" present in the data. We are talking here about players with extreme values due to a number of games played lower than normal. So let's count game played by players during the season.\n",
    "\n"
   ]
  },
  {
   "cell_type": "code",
   "execution_count": null,
   "id": "86f853dd",
   "metadata": {
    "execution": {
     "iopub.execute_input": "2022-02-14T20:17:16.237872Z",
     "iopub.status.busy": "2022-02-14T20:17:16.237136Z",
     "iopub.status.idle": "2022-02-14T20:17:16.255477Z",
     "shell.execute_reply": "2022-02-14T20:17:16.254834Z",
     "shell.execute_reply.started": "2022-02-14T20:15:35.835919Z"
    },
    "papermill": {
     "duration": 0.06467,
     "end_time": "2022-02-14T20:17:16.255628",
     "exception": false,
     "start_time": "2022-02-14T20:17:16.190958",
     "status": "completed"
    },
    "tags": []
   },
   "outputs": [],
   "source": [
    "counting = data[['player_id', 'score']] \\\n",
    "            .groupby('player_id', as_index=False) \\\n",
    "            .count() \\\n",
    "            .rename(columns={'score': 'count'}) \\\n",
    "            .sort_values('count', ascending=False)"
   ]
  },
  {
   "cell_type": "markdown",
   "id": "371bc21d",
   "metadata": {
    "papermill": {
     "duration": 0.04281,
     "end_time": "2022-02-14T20:17:16.342473",
     "exception": false,
     "start_time": "2022-02-14T20:17:16.299663",
     "status": "completed"
    },
    "tags": []
   },
   "source": [
    "Then let's keep players with a minimum of 9 games played since the beginning of RLCS. Now, you may ask \"why 9 games especially\" ? Well, because at the moment (with the Fall split finished and the ongoing Winter Split), 9 is the minimal number of game a starter player can make during Main Event (going 0-3 Bo5 in Swiss Stage during Fall or going 0-3 Bo5 in Group Stage during Winter and getting swept at each series). This will get rid of substitute / stand-in players with not enough games to be relevant for further analysis."
   ]
  },
  {
   "cell_type": "code",
   "execution_count": null,
   "id": "f86f9756",
   "metadata": {
    "execution": {
     "iopub.execute_input": "2022-02-14T20:17:16.445759Z",
     "iopub.status.busy": "2022-02-14T20:17:16.444651Z",
     "iopub.status.idle": "2022-02-14T20:17:16.460650Z",
     "shell.execute_reply": "2022-02-14T20:17:16.461343Z",
     "shell.execute_reply.started": "2022-02-14T20:15:35.858518Z"
    },
    "papermill": {
     "duration": 0.068252,
     "end_time": "2022-02-14T20:17:16.461565",
     "exception": false,
     "start_time": "2022-02-14T20:17:16.393313",
     "status": "completed"
    },
    "tags": []
   },
   "outputs": [],
   "source": [
    "counting = counting[counting['count'] >= 9].reset_index(drop=True)\n",
    "counting"
   ]
  },
  {
   "cell_type": "code",
   "execution_count": null,
   "id": "487f918d",
   "metadata": {
    "execution": {
     "iopub.execute_input": "2022-02-14T20:17:16.568645Z",
     "iopub.status.busy": "2022-02-14T20:17:16.567563Z",
     "iopub.status.idle": "2022-02-14T20:17:16.572395Z",
     "shell.execute_reply": "2022-02-14T20:17:16.573237Z",
     "shell.execute_reply.started": "2022-02-14T20:15:35.877344Z"
    },
    "papermill": {
     "duration": 0.064126,
     "end_time": "2022-02-14T20:17:16.573505",
     "exception": false,
     "start_time": "2022-02-14T20:17:16.509379",
     "status": "completed"
    },
    "tags": []
   },
   "outputs": [],
   "source": [
    "validate = set(counting.player_id.tolist())  # Creating a set to aply isin() function after."
   ]
  },
  {
   "cell_type": "markdown",
   "id": "e16e6edf",
   "metadata": {
    "papermill": {
     "duration": 0.045165,
     "end_time": "2022-02-14T20:17:16.671640",
     "exception": false,
     "start_time": "2022-02-14T20:17:16.626475",
     "status": "completed"
    },
    "tags": []
   },
   "source": [
    "### Averaging\n",
    "\n",
    "To compare the players, we will average their statistics over all games available, using `player_id` as the identifier to apply average function."
   ]
  },
  {
   "cell_type": "code",
   "execution_count": null,
   "id": "35168a30",
   "metadata": {
    "execution": {
     "iopub.execute_input": "2022-02-14T20:17:16.774227Z",
     "iopub.status.busy": "2022-02-14T20:17:16.773184Z",
     "iopub.status.idle": "2022-02-14T20:17:16.828650Z",
     "shell.execute_reply": "2022-02-14T20:17:16.829236Z",
     "shell.execute_reply.started": "2022-02-14T20:15:35.885347Z"
    },
    "papermill": {
     "duration": 0.103119,
     "end_time": "2022-02-14T20:17:16.829420",
     "exception": false,
     "start_time": "2022-02-14T20:17:16.726301",
     "status": "completed"
    },
    "tags": []
   },
   "outputs": [],
   "source": [
    "avg_all = data[data.player_id.isin(validate)][['player_id', 'goals', 'saves', 'assists', 'score']].groupby('player_id', as_index=False).mean()\n",
    "avg_all = player_name_db.merge(avg_all).merge(counting).sort_values(['team', 'name'])\n",
    "avg_all"
   ]
  },
  {
   "cell_type": "markdown",
   "id": "013518e2",
   "metadata": {
    "papermill": {
     "duration": 0.043587,
     "end_time": "2022-02-14T20:17:16.918702",
     "exception": false,
     "start_time": "2022-02-14T20:17:16.875115",
     "status": "completed"
    },
    "tags": []
   },
   "source": [
    "Let's check **Team Vitality** & **The General NRG** players and see how they performed during the season."
   ]
  },
  {
   "cell_type": "code",
   "execution_count": null,
   "id": "7358edc7",
   "metadata": {
    "execution": {
     "iopub.execute_input": "2022-02-14T20:17:17.013697Z",
     "iopub.status.busy": "2022-02-14T20:17:17.012638Z",
     "iopub.status.idle": "2022-02-14T20:17:17.027997Z",
     "shell.execute_reply": "2022-02-14T20:17:17.028598Z",
     "shell.execute_reply.started": "2022-02-14T20:15:35.957717Z"
    },
    "papermill": {
     "duration": 0.064213,
     "end_time": "2022-02-14T20:17:17.028873",
     "exception": false,
     "start_time": "2022-02-14T20:17:16.964660",
     "status": "completed"
    },
    "tags": []
   },
   "outputs": [],
   "source": [
    "avg_all.loc[avg_all.team == 'TEAM VITALITY']"
   ]
  },
  {
   "cell_type": "code",
   "execution_count": null,
   "id": "e44c569e",
   "metadata": {
    "execution": {
     "iopub.execute_input": "2022-02-14T20:17:17.128159Z",
     "iopub.status.busy": "2022-02-14T20:17:17.125095Z",
     "iopub.status.idle": "2022-02-14T20:17:17.139198Z",
     "shell.execute_reply": "2022-02-14T20:17:17.139899Z",
     "shell.execute_reply.started": "2022-02-14T20:15:35.974785Z"
    },
    "papermill": {
     "duration": 0.065372,
     "end_time": "2022-02-14T20:17:17.140073",
     "exception": false,
     "start_time": "2022-02-14T20:17:17.074701",
     "status": "completed"
    },
    "tags": []
   },
   "outputs": [],
   "source": [
    "avg_all.loc[avg_all.team == 'THE GENERAL NRG']"
   ]
  },
  {
   "cell_type": "markdown",
   "id": "aab87f47",
   "metadata": {
    "papermill": {
     "duration": 0.046451,
     "end_time": "2022-02-14T20:17:17.231113",
     "exception": false,
     "start_time": "2022-02-14T20:17:17.184662",
     "status": "completed"
    },
    "tags": []
   },
   "source": [
    "**Alpha54** and **justin** seem to stand out from their teammates with high scoring due to the number of goals scored and saves made per game. And this is completly normal, in game:\n",
    "\n",
    "* A goal give 100 points to a player\n",
    "* An assists give 50 points to a player\n",
    "* A simple save give 50 points to a player and a \"miracle\" save 75.\n",
    "\n",
    "They are what we use to call \"super-carries\" of their team: most clutch players of their team, very offensive and able to score a lot, but also able to make save in very difficult situation.\n",
    "\n",
    "Let's now present the data to compare all players to each other."
   ]
  },
  {
   "cell_type": "code",
   "execution_count": null,
   "id": "8ce69c16",
   "metadata": {
    "execution": {
     "iopub.execute_input": "2022-02-14T20:17:17.325339Z",
     "iopub.status.busy": "2022-02-14T20:17:17.324591Z",
     "iopub.status.idle": "2022-02-14T20:17:17.352450Z",
     "shell.execute_reply": "2022-02-14T20:17:17.351783Z",
     "shell.execute_reply.started": "2022-02-14T20:15:36.000688Z"
    },
    "papermill": {
     "duration": 0.076506,
     "end_time": "2022-02-14T20:17:17.352593",
     "exception": false,
     "start_time": "2022-02-14T20:17:17.276087",
     "status": "completed"
    },
    "tags": []
   },
   "outputs": [],
   "source": [
    "avg_describe = avg_all.describe()\n",
    "avg_describe"
   ]
  },
  {
   "cell_type": "markdown",
   "id": "b40f2a3c",
   "metadata": {
    "papermill": {
     "duration": 0.045585,
     "end_time": "2022-02-14T20:17:17.443982",
     "exception": false,
     "start_time": "2022-02-14T20:17:17.398397",
     "status": "completed"
    },
    "tags": []
   },
   "source": [
    "## Data visualization\n",
    "\n",
    "![And Here We Go!](https://c.tenor.com/x-FL-l7ERS4AAAAC/and-here-we-go-joker.gif)\n",
    "\n",
    "### Goals / Score"
   ]
  },
  {
   "cell_type": "code",
   "execution_count": null,
   "id": "dc915f11",
   "metadata": {
    "execution": {
     "iopub.execute_input": "2022-02-14T20:17:17.542549Z",
     "iopub.status.busy": "2022-02-14T20:17:17.541798Z",
     "iopub.status.idle": "2022-02-14T20:17:20.007558Z",
     "shell.execute_reply": "2022-02-14T20:17:20.008105Z",
     "shell.execute_reply.started": "2022-02-14T20:15:36.042252Z"
    },
    "papermill": {
     "duration": 2.519182,
     "end_time": "2022-02-14T20:17:20.008283",
     "exception": false,
     "start_time": "2022-02-14T20:17:17.489101",
     "status": "completed"
    },
    "tags": []
   },
   "outputs": [],
   "source": [
    "fig_11 = px.scatter(avg_all,\n",
    "                 x=\"score\",\n",
    "                 y=\"goals\",\n",
    "                 color='team',\n",
    "                 hover_data=['name', 'count'],\n",
    "                 labels={\"team\": \"Last team\",\n",
    "                         \"score\": \"Average Score per game\",\n",
    "                         \"goals\": \"Average Goals per game\",\n",
    "                         \"name\": \"Player name\",\n",
    "                         \"count\": \"Games played\"},\n",
    "                 title='Score visualisation with goal per game',\n",
    "                 width=960,\n",
    "                 height=720)\n",
    "\n",
    "fig_11.add_vline(x=avg_describe.loc['mean', 'score'], line_width=1, line_dash=\"dash\")\n",
    "fig_11.add_hline(y=avg_describe.loc['mean', 'goals'], line_width=1, line_dash=\"dash\")\n",
    "\n",
    "fig_11.show()"
   ]
  },
  {
   "cell_type": "code",
   "execution_count": null,
   "id": "2c98d1df",
   "metadata": {
    "execution": {
     "iopub.execute_input": "2022-02-14T20:17:20.113180Z",
     "iopub.status.busy": "2022-02-14T20:17:20.112497Z",
     "iopub.status.idle": "2022-02-14T20:17:20.320698Z",
     "shell.execute_reply": "2022-02-14T20:17:20.321268Z",
     "shell.execute_reply.started": "2022-02-14T20:15:38.545373Z"
    },
    "papermill": {
     "duration": 0.261347,
     "end_time": "2022-02-14T20:17:20.321446",
     "exception": false,
     "start_time": "2022-02-14T20:17:20.060099",
     "status": "completed"
    },
    "tags": []
   },
   "outputs": [],
   "source": [
    "fig_12 = px.scatter(avg_all,\n",
    "                    x=\"score\",\n",
    "                    y=\"goals\",\n",
    "                    hover_data=['name', 'count'],\n",
    "                    marginal_x=\"box\",\n",
    "                    marginal_y=\"box\",\n",
    "                    labels={\"team\": \"Last team\",\n",
    "                            \"score\": \"Average Score per game\",\n",
    "                            \"goals\": \"Average Goals per game\",\n",
    "                            \"name\": \"Player name\",\n",
    "                            \"count\": \"Games played\"},\n",
    "                    title='Score visualisation with goal per game',\n",
    "                    width=960,\n",
    "                    height=960)\n",
    "fig_12.show()"
   ]
  },
  {
   "cell_type": "markdown",
   "id": "8f21a3b3",
   "metadata": {
    "papermill": {
     "duration": 0.05116,
     "end_time": "2022-02-14T20:17:20.424768",
     "exception": false,
     "start_time": "2022-02-14T20:17:20.373608",
     "status": "completed"
    },
    "tags": []
   },
   "source": [
    "### Assists / Score"
   ]
  },
  {
   "cell_type": "code",
   "execution_count": null,
   "id": "bec73547",
   "metadata": {
    "execution": {
     "iopub.execute_input": "2022-02-14T20:17:20.537216Z",
     "iopub.status.busy": "2022-02-14T20:17:20.536413Z",
     "iopub.status.idle": "2022-02-14T20:17:21.718048Z",
     "shell.execute_reply": "2022-02-14T20:17:21.718538Z",
     "shell.execute_reply.started": "2022-02-14T20:15:38.755314Z"
    },
    "papermill": {
     "duration": 1.242079,
     "end_time": "2022-02-14T20:17:21.718701",
     "exception": false,
     "start_time": "2022-02-14T20:17:20.476622",
     "status": "completed"
    },
    "tags": []
   },
   "outputs": [],
   "source": [
    "fig_21 = px.scatter(avg_all,\n",
    "                 x=\"score\",\n",
    "                 y=\"assists\",\n",
    "                 color='team',\n",
    "                 hover_data=['name', 'count'],\n",
    "                 labels={\"team\": \"Last team\",\n",
    "                         \"score\": \"Average Score per game\",\n",
    "                         \"assists\": \"Average Assists per game\",\n",
    "                         \"name\": \"Player name\",\n",
    "                         \"count\": \"Games played\"},\n",
    "                 title='Score visualisation with assists per game',\n",
    "                 width=960,\n",
    "                 height=720)\n",
    "\n",
    "fig_21.add_vline(x=avg_describe.loc['mean', 'score'], line_width=1, line_dash=\"dash\")\n",
    "fig_21.add_hline(y=avg_describe.loc['mean', 'assists'], line_width=1, line_dash=\"dash\")\n",
    "\n",
    "fig_21.show()"
   ]
  },
  {
   "cell_type": "code",
   "execution_count": null,
   "id": "38bf0dcc",
   "metadata": {
    "execution": {
     "iopub.execute_input": "2022-02-14T20:17:21.837779Z",
     "iopub.status.busy": "2022-02-14T20:17:21.837030Z",
     "iopub.status.idle": "2022-02-14T20:17:21.999373Z",
     "shell.execute_reply": "2022-02-14T20:17:21.999913Z",
     "shell.execute_reply.started": "2022-02-14T20:15:39.971284Z"
    },
    "papermill": {
     "duration": 0.225998,
     "end_time": "2022-02-14T20:17:22.000090",
     "exception": false,
     "start_time": "2022-02-14T20:17:21.774092",
     "status": "completed"
    },
    "tags": []
   },
   "outputs": [],
   "source": [
    "fig_22 = px.scatter(avg_all,\n",
    "                    x=\"score\",\n",
    "                    y=\"assists\",\n",
    "                    hover_data=['name', 'count'],\n",
    "                    marginal_x=\"box\",\n",
    "                    marginal_y=\"box\",\n",
    "                    labels={\"team\": \"Last team\",\n",
    "                            \"score\": \"Average Score per game\",\n",
    "                            \"assists\": \"Average Assists per game\",\n",
    "                            \"name\": \"Player name\",\n",
    "                            \"count\": \"Games played\"},\n",
    "                    title='Score visualisation with assists per game',\n",
    "                    width=960,\n",
    "                    height=960)\n",
    "fig_22.show()"
   ]
  },
  {
   "cell_type": "markdown",
   "id": "6c36156d",
   "metadata": {
    "papermill": {
     "duration": 0.057724,
     "end_time": "2022-02-14T20:17:22.115839",
     "exception": false,
     "start_time": "2022-02-14T20:17:22.058115",
     "status": "completed"
    },
    "tags": []
   },
   "source": [
    "### Saves / Score"
   ]
  },
  {
   "cell_type": "code",
   "execution_count": null,
   "id": "75574824",
   "metadata": {
    "execution": {
     "iopub.execute_input": "2022-02-14T20:17:22.254806Z",
     "iopub.status.busy": "2022-02-14T20:17:22.253288Z",
     "iopub.status.idle": "2022-02-14T20:17:23.437319Z",
     "shell.execute_reply": "2022-02-14T20:17:23.437901Z",
     "shell.execute_reply.started": "2022-02-14T20:15:40.144558Z"
    },
    "papermill": {
     "duration": 1.263877,
     "end_time": "2022-02-14T20:17:23.438082",
     "exception": false,
     "start_time": "2022-02-14T20:17:22.174205",
     "status": "completed"
    },
    "tags": []
   },
   "outputs": [],
   "source": [
    "fig_31 = px.scatter(avg_all,\n",
    "                 x=\"score\",\n",
    "                 y=\"saves\",\n",
    "                 color='team',\n",
    "                 hover_data=['name', 'count'],\n",
    "                 labels={\"team\": \"Last team\",\n",
    "                         \"score\": \"Average Score per game\",\n",
    "                         \"saves\": \"Average Saves per game\",\n",
    "                         \"name\": \"Player name\",\n",
    "                         \"count\": \"Games played\"},\n",
    "                 title='Score visualisation with saves per game',\n",
    "                 width=960,\n",
    "                 height=720)\n",
    "\n",
    "fig_31.add_vline(x=avg_describe.loc['mean', 'score'], line_width=1, line_dash=\"dash\")\n",
    "fig_31.add_hline(y=avg_describe.loc['mean', 'saves'], line_width=1, line_dash=\"dash\")\n",
    "\n",
    "fig_31.show()"
   ]
  },
  {
   "cell_type": "code",
   "execution_count": null,
   "id": "d8f05c92",
   "metadata": {
    "execution": {
     "iopub.execute_input": "2022-02-14T20:17:23.577813Z",
     "iopub.status.busy": "2022-02-14T20:17:23.576621Z",
     "iopub.status.idle": "2022-02-14T20:17:23.729401Z",
     "shell.execute_reply": "2022-02-14T20:17:23.729936Z",
     "shell.execute_reply.started": "2022-02-14T20:15:41.356479Z"
    },
    "papermill": {
     "duration": 0.2307,
     "end_time": "2022-02-14T20:17:23.730111",
     "exception": false,
     "start_time": "2022-02-14T20:17:23.499411",
     "status": "completed"
    },
    "tags": []
   },
   "outputs": [],
   "source": [
    "fig_32 = px.scatter(avg_all,\n",
    "                    x=\"score\",\n",
    "                    y=\"saves\",\n",
    "                    hover_data=['name', 'count'],\n",
    "                    marginal_x=\"box\",\n",
    "                    marginal_y=\"box\",\n",
    "                    labels={\"team\": \"Last team\",\n",
    "                            \"score\": \"Average Score per game\",\n",
    "                            \"saves\": \"Average Saves per game\",\n",
    "                            \"name\": \"Player name\",\n",
    "                            \"count\": \"Games played\"},\n",
    "                    title='Score visualisation with saves per game',\n",
    "                    width=960,\n",
    "                    height=960)\n",
    "\n",
    "fig_32.show()"
   ]
  }
 ],
 "metadata": {
  "kernelspec": {
   "display_name": "Python 3",
   "language": "python",
   "name": "python3"
  },
  "language_info": {
   "codemirror_mode": {
    "name": "ipython",
    "version": 3
   },
   "file_extension": ".py",
   "mimetype": "text/x-python",
   "name": "python",
   "nbconvert_exporter": "python",
   "pygments_lexer": "ipython3",
   "version": "3.7.12"
  },
  "papermill": {
   "default_parameters": {},
   "duration": 25.162235,
   "end_time": "2022-02-14T20:17:24.605027",
   "environment_variables": {},
   "exception": null,
   "input_path": "__notebook__.ipynb",
   "output_path": "__notebook__.ipynb",
   "parameters": {},
   "start_time": "2022-02-14T20:16:59.442792",
   "version": "2.3.3"
  }
 },
 "nbformat": 4,
 "nbformat_minor": 5
}